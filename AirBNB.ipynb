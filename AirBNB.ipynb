{
 "cells": [
  {
   "cell_type": "markdown",
   "metadata": {},
   "source": [
    "#### AirBnB Seattle\n",
    "\n",
    "The Data will be explored implementing the Cross-Industry Standard Process for Data Mining (CRISP-DM) process as follows.\n",
    "\n",
    "- Business Understanding\n",
    "- Data Understanding\n",
    "- Data Preparation\n",
    "- Modeling\n",
    "- Evaluation\n",
    "- Deployment\n",
    "\n",
    "Deployment is in the form of a blog post targeted at a general audience published in Github Repository ReadMe file.\n",
    "\n",
    "##### Business Understanding\n",
    "\n",
    "As per the AirBnB Listings atrribute level information available, following Business questions are framed to be answered thorugh the Data Analysis using CRISP-DM process.\n",
    "\n",
    "\n",
    " Question 1. How to predict price of the new listing?\n",
    " \n",
    " Question 2. What are the most important features driving the listing price?\n",
    " \n",
    " Question 3. Which ML technique will be most suitable for the price detection based on the available data?\n",
    " \n",
    "\n",
    "\n",
    "##### Data Understanding & Preparation :\n",
    "- What information we have?\n",
    "- What information is missing?\n",
    "- Initial data preparation\n",
    "  - remove the irrelevant information\n",
    "  - reformat the information and impute missing values\n",
    "- High level analysis:\n",
    "  - find out high level trends and correlations\n",
    "- Prepare Exploratory Data Analysis\n",
    "- Use Machine learning for Price Prediction"
   ]
  },
  {
   "cell_type": "code",
   "execution_count": 13,
   "metadata": {},
   "outputs": [
    {
     "data": {
      "text/html": [
       "<div>\n",
       "<style scoped>\n",
       "    .dataframe tbody tr th:only-of-type {\n",
       "        vertical-align: middle;\n",
       "    }\n",
       "\n",
       "    .dataframe tbody tr th {\n",
       "        vertical-align: top;\n",
       "    }\n",
       "\n",
       "    .dataframe thead th {\n",
       "        text-align: right;\n",
       "    }\n",
       "</style>\n",
       "<table border=\"1\" class=\"dataframe\">\n",
       "  <thead>\n",
       "    <tr style=\"text-align: right;\">\n",
       "      <th></th>\n",
       "      <th>id</th>\n",
       "      <th>listing_url</th>\n",
       "      <th>scrape_id</th>\n",
       "      <th>last_scraped</th>\n",
       "      <th>name</th>\n",
       "      <th>summary</th>\n",
       "      <th>space</th>\n",
       "      <th>description</th>\n",
       "      <th>experiences_offered</th>\n",
       "      <th>neighborhood_overview</th>\n",
       "      <th>...</th>\n",
       "      <th>review_scores_value</th>\n",
       "      <th>requires_license</th>\n",
       "      <th>license</th>\n",
       "      <th>jurisdiction_names</th>\n",
       "      <th>instant_bookable</th>\n",
       "      <th>cancellation_policy</th>\n",
       "      <th>require_guest_profile_picture</th>\n",
       "      <th>require_guest_phone_verification</th>\n",
       "      <th>calculated_host_listings_count</th>\n",
       "      <th>reviews_per_month</th>\n",
       "    </tr>\n",
       "  </thead>\n",
       "  <tbody>\n",
       "    <tr>\n",
       "      <th>0</th>\n",
       "      <td>241032</td>\n",
       "      <td>https://www.airbnb.com/rooms/241032</td>\n",
       "      <td>20160104002432</td>\n",
       "      <td>2016-01-04</td>\n",
       "      <td>Stylish Queen Anne Apartment</td>\n",
       "      <td>NaN</td>\n",
       "      <td>Make your self at home in this charming one-be...</td>\n",
       "      <td>Make your self at home in this charming one-be...</td>\n",
       "      <td>none</td>\n",
       "      <td>NaN</td>\n",
       "      <td>...</td>\n",
       "      <td>10.0</td>\n",
       "      <td>f</td>\n",
       "      <td>NaN</td>\n",
       "      <td>WASHINGTON</td>\n",
       "      <td>f</td>\n",
       "      <td>moderate</td>\n",
       "      <td>f</td>\n",
       "      <td>f</td>\n",
       "      <td>2</td>\n",
       "      <td>4.07</td>\n",
       "    </tr>\n",
       "    <tr>\n",
       "      <th>1</th>\n",
       "      <td>953595</td>\n",
       "      <td>https://www.airbnb.com/rooms/953595</td>\n",
       "      <td>20160104002432</td>\n",
       "      <td>2016-01-04</td>\n",
       "      <td>Bright &amp; Airy Queen Anne Apartment</td>\n",
       "      <td>Chemically sensitive? We've removed the irrita...</td>\n",
       "      <td>Beautiful, hypoallergenic apartment in an extr...</td>\n",
       "      <td>Chemically sensitive? We've removed the irrita...</td>\n",
       "      <td>none</td>\n",
       "      <td>Queen Anne is a wonderful, truly functional vi...</td>\n",
       "      <td>...</td>\n",
       "      <td>10.0</td>\n",
       "      <td>f</td>\n",
       "      <td>NaN</td>\n",
       "      <td>WASHINGTON</td>\n",
       "      <td>f</td>\n",
       "      <td>strict</td>\n",
       "      <td>t</td>\n",
       "      <td>t</td>\n",
       "      <td>6</td>\n",
       "      <td>1.48</td>\n",
       "    </tr>\n",
       "    <tr>\n",
       "      <th>2</th>\n",
       "      <td>3308979</td>\n",
       "      <td>https://www.airbnb.com/rooms/3308979</td>\n",
       "      <td>20160104002432</td>\n",
       "      <td>2016-01-04</td>\n",
       "      <td>New Modern House-Amazing water view</td>\n",
       "      <td>New modern house built in 2013.  Spectacular s...</td>\n",
       "      <td>Our house is modern, light and fresh with a wa...</td>\n",
       "      <td>New modern house built in 2013.  Spectacular s...</td>\n",
       "      <td>none</td>\n",
       "      <td>Upper Queen Anne is a charming neighborhood fu...</td>\n",
       "      <td>...</td>\n",
       "      <td>10.0</td>\n",
       "      <td>f</td>\n",
       "      <td>NaN</td>\n",
       "      <td>WASHINGTON</td>\n",
       "      <td>f</td>\n",
       "      <td>strict</td>\n",
       "      <td>f</td>\n",
       "      <td>f</td>\n",
       "      <td>2</td>\n",
       "      <td>1.15</td>\n",
       "    </tr>\n",
       "    <tr>\n",
       "      <th>3</th>\n",
       "      <td>7421966</td>\n",
       "      <td>https://www.airbnb.com/rooms/7421966</td>\n",
       "      <td>20160104002432</td>\n",
       "      <td>2016-01-04</td>\n",
       "      <td>Queen Anne Chateau</td>\n",
       "      <td>A charming apartment that sits atop Queen Anne...</td>\n",
       "      <td>NaN</td>\n",
       "      <td>A charming apartment that sits atop Queen Anne...</td>\n",
       "      <td>none</td>\n",
       "      <td>NaN</td>\n",
       "      <td>...</td>\n",
       "      <td>NaN</td>\n",
       "      <td>f</td>\n",
       "      <td>NaN</td>\n",
       "      <td>WASHINGTON</td>\n",
       "      <td>f</td>\n",
       "      <td>flexible</td>\n",
       "      <td>f</td>\n",
       "      <td>f</td>\n",
       "      <td>1</td>\n",
       "      <td>NaN</td>\n",
       "    </tr>\n",
       "    <tr>\n",
       "      <th>4</th>\n",
       "      <td>278830</td>\n",
       "      <td>https://www.airbnb.com/rooms/278830</td>\n",
       "      <td>20160104002432</td>\n",
       "      <td>2016-01-04</td>\n",
       "      <td>Charming craftsman 3 bdm house</td>\n",
       "      <td>Cozy family craftman house in beautiful neighb...</td>\n",
       "      <td>Cozy family craftman house in beautiful neighb...</td>\n",
       "      <td>Cozy family craftman house in beautiful neighb...</td>\n",
       "      <td>none</td>\n",
       "      <td>We are in the beautiful neighborhood of Queen ...</td>\n",
       "      <td>...</td>\n",
       "      <td>9.0</td>\n",
       "      <td>f</td>\n",
       "      <td>NaN</td>\n",
       "      <td>WASHINGTON</td>\n",
       "      <td>f</td>\n",
       "      <td>strict</td>\n",
       "      <td>f</td>\n",
       "      <td>f</td>\n",
       "      <td>1</td>\n",
       "      <td>0.89</td>\n",
       "    </tr>\n",
       "  </tbody>\n",
       "</table>\n",
       "<p>5 rows × 92 columns</p>\n",
       "</div>"
      ],
      "text/plain": [
       "        id                           listing_url       scrape_id last_scraped  \\\n",
       "0   241032   https://www.airbnb.com/rooms/241032  20160104002432   2016-01-04   \n",
       "1   953595   https://www.airbnb.com/rooms/953595  20160104002432   2016-01-04   \n",
       "2  3308979  https://www.airbnb.com/rooms/3308979  20160104002432   2016-01-04   \n",
       "3  7421966  https://www.airbnb.com/rooms/7421966  20160104002432   2016-01-04   \n",
       "4   278830   https://www.airbnb.com/rooms/278830  20160104002432   2016-01-04   \n",
       "\n",
       "                                  name  \\\n",
       "0         Stylish Queen Anne Apartment   \n",
       "1   Bright & Airy Queen Anne Apartment   \n",
       "2  New Modern House-Amazing water view   \n",
       "3                   Queen Anne Chateau   \n",
       "4       Charming craftsman 3 bdm house   \n",
       "\n",
       "                                             summary  \\\n",
       "0                                                NaN   \n",
       "1  Chemically sensitive? We've removed the irrita...   \n",
       "2  New modern house built in 2013.  Spectacular s...   \n",
       "3  A charming apartment that sits atop Queen Anne...   \n",
       "4  Cozy family craftman house in beautiful neighb...   \n",
       "\n",
       "                                               space  \\\n",
       "0  Make your self at home in this charming one-be...   \n",
       "1  Beautiful, hypoallergenic apartment in an extr...   \n",
       "2  Our house is modern, light and fresh with a wa...   \n",
       "3                                                NaN   \n",
       "4  Cozy family craftman house in beautiful neighb...   \n",
       "\n",
       "                                         description experiences_offered  \\\n",
       "0  Make your self at home in this charming one-be...                none   \n",
       "1  Chemically sensitive? We've removed the irrita...                none   \n",
       "2  New modern house built in 2013.  Spectacular s...                none   \n",
       "3  A charming apartment that sits atop Queen Anne...                none   \n",
       "4  Cozy family craftman house in beautiful neighb...                none   \n",
       "\n",
       "                               neighborhood_overview        ...         \\\n",
       "0                                                NaN        ...          \n",
       "1  Queen Anne is a wonderful, truly functional vi...        ...          \n",
       "2  Upper Queen Anne is a charming neighborhood fu...        ...          \n",
       "3                                                NaN        ...          \n",
       "4  We are in the beautiful neighborhood of Queen ...        ...          \n",
       "\n",
       "  review_scores_value requires_license license jurisdiction_names  \\\n",
       "0                10.0                f     NaN         WASHINGTON   \n",
       "1                10.0                f     NaN         WASHINGTON   \n",
       "2                10.0                f     NaN         WASHINGTON   \n",
       "3                 NaN                f     NaN         WASHINGTON   \n",
       "4                 9.0                f     NaN         WASHINGTON   \n",
       "\n",
       "  instant_bookable cancellation_policy  require_guest_profile_picture  \\\n",
       "0                f            moderate                              f   \n",
       "1                f              strict                              t   \n",
       "2                f              strict                              f   \n",
       "3                f            flexible                              f   \n",
       "4                f              strict                              f   \n",
       "\n",
       "  require_guest_phone_verification calculated_host_listings_count  \\\n",
       "0                                f                              2   \n",
       "1                                t                              6   \n",
       "2                                f                              2   \n",
       "3                                f                              1   \n",
       "4                                f                              1   \n",
       "\n",
       "  reviews_per_month  \n",
       "0              4.07  \n",
       "1              1.48  \n",
       "2              1.15  \n",
       "3               NaN  \n",
       "4              0.89  \n",
       "\n",
       "[5 rows x 92 columns]"
      ]
     },
     "execution_count": 13,
     "metadata": {},
     "output_type": "execute_result"
    }
   ],
   "source": [
    "# listing dataset has the price and listing attributes level information\n",
    "import pandas as pd\n",
    "import numpy as np\n",
    "listing = pd.read_csv(\"C://Users//CHANGKE7//OneDrive - Novartis Pharma AG//Udacity//Data Science//seattle//listings.csv\")\n",
    "listing.head()"
   ]
  },
  {
   "cell_type": "code",
   "execution_count": 33,
   "metadata": {},
   "outputs": [
    {
     "data": {
      "text/html": [
       "<div>\n",
       "<style scoped>\n",
       "    .dataframe tbody tr th:only-of-type {\n",
       "        vertical-align: middle;\n",
       "    }\n",
       "\n",
       "    .dataframe tbody tr th {\n",
       "        vertical-align: top;\n",
       "    }\n",
       "\n",
       "    .dataframe thead th {\n",
       "        text-align: right;\n",
       "    }\n",
       "</style>\n",
       "<table border=\"1\" class=\"dataframe\">\n",
       "  <thead>\n",
       "    <tr style=\"text-align: right;\">\n",
       "      <th></th>\n",
       "      <th>index</th>\n",
       "      <th>0</th>\n",
       "    </tr>\n",
       "  </thead>\n",
       "  <tbody>\n",
       "    <tr>\n",
       "      <th>0</th>\n",
       "      <td>id</td>\n",
       "      <td>0</td>\n",
       "    </tr>\n",
       "    <tr>\n",
       "      <th>1</th>\n",
       "      <td>listing_url</td>\n",
       "      <td>0</td>\n",
       "    </tr>\n",
       "    <tr>\n",
       "      <th>2</th>\n",
       "      <td>scrape_id</td>\n",
       "      <td>0</td>\n",
       "    </tr>\n",
       "    <tr>\n",
       "      <th>3</th>\n",
       "      <td>last_scraped</td>\n",
       "      <td>0</td>\n",
       "    </tr>\n",
       "    <tr>\n",
       "      <th>4</th>\n",
       "      <td>name</td>\n",
       "      <td>0</td>\n",
       "    </tr>\n",
       "    <tr>\n",
       "      <th>5</th>\n",
       "      <td>summary</td>\n",
       "      <td>177</td>\n",
       "    </tr>\n",
       "    <tr>\n",
       "      <th>6</th>\n",
       "      <td>space</td>\n",
       "      <td>569</td>\n",
       "    </tr>\n",
       "    <tr>\n",
       "      <th>7</th>\n",
       "      <td>description</td>\n",
       "      <td>0</td>\n",
       "    </tr>\n",
       "    <tr>\n",
       "      <th>8</th>\n",
       "      <td>experiences_offered</td>\n",
       "      <td>0</td>\n",
       "    </tr>\n",
       "    <tr>\n",
       "      <th>9</th>\n",
       "      <td>neighborhood_overview</td>\n",
       "      <td>1032</td>\n",
       "    </tr>\n",
       "    <tr>\n",
       "      <th>10</th>\n",
       "      <td>notes</td>\n",
       "      <td>1606</td>\n",
       "    </tr>\n",
       "    <tr>\n",
       "      <th>11</th>\n",
       "      <td>transit</td>\n",
       "      <td>934</td>\n",
       "    </tr>\n",
       "    <tr>\n",
       "      <th>12</th>\n",
       "      <td>thumbnail_url</td>\n",
       "      <td>320</td>\n",
       "    </tr>\n",
       "    <tr>\n",
       "      <th>13</th>\n",
       "      <td>medium_url</td>\n",
       "      <td>320</td>\n",
       "    </tr>\n",
       "    <tr>\n",
       "      <th>14</th>\n",
       "      <td>picture_url</td>\n",
       "      <td>0</td>\n",
       "    </tr>\n",
       "    <tr>\n",
       "      <th>15</th>\n",
       "      <td>xl_picture_url</td>\n",
       "      <td>320</td>\n",
       "    </tr>\n",
       "    <tr>\n",
       "      <th>16</th>\n",
       "      <td>host_id</td>\n",
       "      <td>0</td>\n",
       "    </tr>\n",
       "    <tr>\n",
       "      <th>17</th>\n",
       "      <td>host_url</td>\n",
       "      <td>0</td>\n",
       "    </tr>\n",
       "    <tr>\n",
       "      <th>18</th>\n",
       "      <td>host_name</td>\n",
       "      <td>2</td>\n",
       "    </tr>\n",
       "    <tr>\n",
       "      <th>19</th>\n",
       "      <td>host_since</td>\n",
       "      <td>2</td>\n",
       "    </tr>\n",
       "    <tr>\n",
       "      <th>20</th>\n",
       "      <td>host_location</td>\n",
       "      <td>8</td>\n",
       "    </tr>\n",
       "    <tr>\n",
       "      <th>21</th>\n",
       "      <td>host_about</td>\n",
       "      <td>859</td>\n",
       "    </tr>\n",
       "    <tr>\n",
       "      <th>22</th>\n",
       "      <td>host_response_time</td>\n",
       "      <td>523</td>\n",
       "    </tr>\n",
       "    <tr>\n",
       "      <th>23</th>\n",
       "      <td>host_response_rate</td>\n",
       "      <td>523</td>\n",
       "    </tr>\n",
       "    <tr>\n",
       "      <th>24</th>\n",
       "      <td>host_acceptance_rate</td>\n",
       "      <td>773</td>\n",
       "    </tr>\n",
       "    <tr>\n",
       "      <th>25</th>\n",
       "      <td>host_is_superhost</td>\n",
       "      <td>2</td>\n",
       "    </tr>\n",
       "    <tr>\n",
       "      <th>26</th>\n",
       "      <td>host_thumbnail_url</td>\n",
       "      <td>2</td>\n",
       "    </tr>\n",
       "    <tr>\n",
       "      <th>27</th>\n",
       "      <td>host_picture_url</td>\n",
       "      <td>2</td>\n",
       "    </tr>\n",
       "    <tr>\n",
       "      <th>28</th>\n",
       "      <td>host_neighbourhood</td>\n",
       "      <td>300</td>\n",
       "    </tr>\n",
       "    <tr>\n",
       "      <th>29</th>\n",
       "      <td>host_listings_count</td>\n",
       "      <td>2</td>\n",
       "    </tr>\n",
       "    <tr>\n",
       "      <th>...</th>\n",
       "      <td>...</td>\n",
       "      <td>...</td>\n",
       "    </tr>\n",
       "    <tr>\n",
       "      <th>62</th>\n",
       "      <td>guests_included</td>\n",
       "      <td>0</td>\n",
       "    </tr>\n",
       "    <tr>\n",
       "      <th>63</th>\n",
       "      <td>extra_people</td>\n",
       "      <td>0</td>\n",
       "    </tr>\n",
       "    <tr>\n",
       "      <th>64</th>\n",
       "      <td>minimum_nights</td>\n",
       "      <td>0</td>\n",
       "    </tr>\n",
       "    <tr>\n",
       "      <th>65</th>\n",
       "      <td>maximum_nights</td>\n",
       "      <td>0</td>\n",
       "    </tr>\n",
       "    <tr>\n",
       "      <th>66</th>\n",
       "      <td>calendar_updated</td>\n",
       "      <td>0</td>\n",
       "    </tr>\n",
       "    <tr>\n",
       "      <th>67</th>\n",
       "      <td>has_availability</td>\n",
       "      <td>0</td>\n",
       "    </tr>\n",
       "    <tr>\n",
       "      <th>68</th>\n",
       "      <td>availability_30</td>\n",
       "      <td>0</td>\n",
       "    </tr>\n",
       "    <tr>\n",
       "      <th>69</th>\n",
       "      <td>availability_60</td>\n",
       "      <td>0</td>\n",
       "    </tr>\n",
       "    <tr>\n",
       "      <th>70</th>\n",
       "      <td>availability_90</td>\n",
       "      <td>0</td>\n",
       "    </tr>\n",
       "    <tr>\n",
       "      <th>71</th>\n",
       "      <td>availability_365</td>\n",
       "      <td>0</td>\n",
       "    </tr>\n",
       "    <tr>\n",
       "      <th>72</th>\n",
       "      <td>calendar_last_scraped</td>\n",
       "      <td>0</td>\n",
       "    </tr>\n",
       "    <tr>\n",
       "      <th>73</th>\n",
       "      <td>number_of_reviews</td>\n",
       "      <td>0</td>\n",
       "    </tr>\n",
       "    <tr>\n",
       "      <th>74</th>\n",
       "      <td>first_review</td>\n",
       "      <td>627</td>\n",
       "    </tr>\n",
       "    <tr>\n",
       "      <th>75</th>\n",
       "      <td>last_review</td>\n",
       "      <td>627</td>\n",
       "    </tr>\n",
       "    <tr>\n",
       "      <th>76</th>\n",
       "      <td>review_scores_rating</td>\n",
       "      <td>647</td>\n",
       "    </tr>\n",
       "    <tr>\n",
       "      <th>77</th>\n",
       "      <td>review_scores_accuracy</td>\n",
       "      <td>658</td>\n",
       "    </tr>\n",
       "    <tr>\n",
       "      <th>78</th>\n",
       "      <td>review_scores_cleanliness</td>\n",
       "      <td>653</td>\n",
       "    </tr>\n",
       "    <tr>\n",
       "      <th>79</th>\n",
       "      <td>review_scores_checkin</td>\n",
       "      <td>658</td>\n",
       "    </tr>\n",
       "    <tr>\n",
       "      <th>80</th>\n",
       "      <td>review_scores_communication</td>\n",
       "      <td>651</td>\n",
       "    </tr>\n",
       "    <tr>\n",
       "      <th>81</th>\n",
       "      <td>review_scores_location</td>\n",
       "      <td>655</td>\n",
       "    </tr>\n",
       "    <tr>\n",
       "      <th>82</th>\n",
       "      <td>review_scores_value</td>\n",
       "      <td>656</td>\n",
       "    </tr>\n",
       "    <tr>\n",
       "      <th>83</th>\n",
       "      <td>requires_license</td>\n",
       "      <td>0</td>\n",
       "    </tr>\n",
       "    <tr>\n",
       "      <th>84</th>\n",
       "      <td>license</td>\n",
       "      <td>3818</td>\n",
       "    </tr>\n",
       "    <tr>\n",
       "      <th>85</th>\n",
       "      <td>jurisdiction_names</td>\n",
       "      <td>0</td>\n",
       "    </tr>\n",
       "    <tr>\n",
       "      <th>86</th>\n",
       "      <td>instant_bookable</td>\n",
       "      <td>0</td>\n",
       "    </tr>\n",
       "    <tr>\n",
       "      <th>87</th>\n",
       "      <td>cancellation_policy</td>\n",
       "      <td>0</td>\n",
       "    </tr>\n",
       "    <tr>\n",
       "      <th>88</th>\n",
       "      <td>require_guest_profile_picture</td>\n",
       "      <td>0</td>\n",
       "    </tr>\n",
       "    <tr>\n",
       "      <th>89</th>\n",
       "      <td>require_guest_phone_verification</td>\n",
       "      <td>0</td>\n",
       "    </tr>\n",
       "    <tr>\n",
       "      <th>90</th>\n",
       "      <td>calculated_host_listings_count</td>\n",
       "      <td>0</td>\n",
       "    </tr>\n",
       "    <tr>\n",
       "      <th>91</th>\n",
       "      <td>reviews_per_month</td>\n",
       "      <td>627</td>\n",
       "    </tr>\n",
       "  </tbody>\n",
       "</table>\n",
       "<p>92 rows × 2 columns</p>\n",
       "</div>"
      ],
      "text/plain": [
       "                               index     0\n",
       "0                                 id     0\n",
       "1                        listing_url     0\n",
       "2                          scrape_id     0\n",
       "3                       last_scraped     0\n",
       "4                               name     0\n",
       "5                            summary   177\n",
       "6                              space   569\n",
       "7                        description     0\n",
       "8                experiences_offered     0\n",
       "9              neighborhood_overview  1032\n",
       "10                             notes  1606\n",
       "11                           transit   934\n",
       "12                     thumbnail_url   320\n",
       "13                        medium_url   320\n",
       "14                       picture_url     0\n",
       "15                    xl_picture_url   320\n",
       "16                           host_id     0\n",
       "17                          host_url     0\n",
       "18                         host_name     2\n",
       "19                        host_since     2\n",
       "20                     host_location     8\n",
       "21                        host_about   859\n",
       "22                host_response_time   523\n",
       "23                host_response_rate   523\n",
       "24              host_acceptance_rate   773\n",
       "25                 host_is_superhost     2\n",
       "26                host_thumbnail_url     2\n",
       "27                  host_picture_url     2\n",
       "28                host_neighbourhood   300\n",
       "29               host_listings_count     2\n",
       "..                               ...   ...\n",
       "62                   guests_included     0\n",
       "63                      extra_people     0\n",
       "64                    minimum_nights     0\n",
       "65                    maximum_nights     0\n",
       "66                  calendar_updated     0\n",
       "67                  has_availability     0\n",
       "68                   availability_30     0\n",
       "69                   availability_60     0\n",
       "70                   availability_90     0\n",
       "71                  availability_365     0\n",
       "72             calendar_last_scraped     0\n",
       "73                 number_of_reviews     0\n",
       "74                      first_review   627\n",
       "75                       last_review   627\n",
       "76              review_scores_rating   647\n",
       "77            review_scores_accuracy   658\n",
       "78         review_scores_cleanliness   653\n",
       "79             review_scores_checkin   658\n",
       "80       review_scores_communication   651\n",
       "81            review_scores_location   655\n",
       "82               review_scores_value   656\n",
       "83                  requires_license     0\n",
       "84                           license  3818\n",
       "85                jurisdiction_names     0\n",
       "86                  instant_bookable     0\n",
       "87               cancellation_policy     0\n",
       "88     require_guest_profile_picture     0\n",
       "89  require_guest_phone_verification     0\n",
       "90    calculated_host_listings_count     0\n",
       "91                 reviews_per_month   627\n",
       "\n",
       "[92 rows x 2 columns]"
      ]
     },
     "execution_count": 33,
     "metadata": {},
     "output_type": "execute_result"
    }
   ],
   "source": [
    "df1 = pd.DataFrame(listing.isnull().sum()).reset_index()\n",
    "df1"
   ]
  },
  {
   "cell_type": "code",
   "execution_count": 41,
   "metadata": {},
   "outputs": [
    {
     "data": {
      "text/plain": [
       "Index(['label', 0], dtype='object')"
      ]
     },
     "execution_count": 41,
     "metadata": {},
     "output_type": "execute_result"
    }
   ],
   "source": [
    "df1.columns"
   ]
  },
  {
   "cell_type": "code",
   "execution_count": 43,
   "metadata": {},
   "outputs": [],
   "source": [
    "df1.rename(columns={\"index\":\"label\",0:\"NMiss\"}, inplace=True)"
   ]
  },
  {
   "cell_type": "code",
   "execution_count": 51,
   "metadata": {},
   "outputs": [
    {
     "data": {
      "text/plain": [
       "['neighborhood_overview',\n",
       " 'notes',\n",
       " 'transit',\n",
       " 'host_about',\n",
       " 'host_acceptance_rate',\n",
       " 'square_feet',\n",
       " 'weekly_price',\n",
       " 'monthly_price',\n",
       " 'security_deposit',\n",
       " 'cleaning_fee',\n",
       " 'license']"
      ]
     },
     "execution_count": 51,
     "metadata": {},
     "output_type": "execute_result"
    }
   ],
   "source": [
    "# find variables with more than 20% missing\n",
    "df1['NMiss_p']= df1['NMiss']/3818\n",
    "dlist = df1.query(\"NMiss_p >=0.2\").label.tolist()\n",
    "dlist"
   ]
  },
  {
   "cell_type": "code",
   "execution_count": 50,
   "metadata": {},
   "outputs": [],
   "source": [
    "# droping columns with more than 20% missing \n",
    "# as imputing high missing values by mean or zeros could result in misclassification of the information\n",
    "listing.drop(dlist,axis=1,inplace=True)"
   ]
  },
  {
   "cell_type": "code",
   "execution_count": 53,
   "metadata": {},
   "outputs": [
    {
     "data": {
      "text/html": [
       "<div>\n",
       "<style scoped>\n",
       "    .dataframe tbody tr th:only-of-type {\n",
       "        vertical-align: middle;\n",
       "    }\n",
       "\n",
       "    .dataframe tbody tr th {\n",
       "        vertical-align: top;\n",
       "    }\n",
       "\n",
       "    .dataframe thead th {\n",
       "        text-align: right;\n",
       "    }\n",
       "</style>\n",
       "<table border=\"1\" class=\"dataframe\">\n",
       "  <thead>\n",
       "    <tr style=\"text-align: right;\">\n",
       "      <th></th>\n",
       "      <th>listing_url</th>\n",
       "      <th>last_scraped</th>\n",
       "      <th>name</th>\n",
       "      <th>summary</th>\n",
       "      <th>space</th>\n",
       "      <th>description</th>\n",
       "      <th>experiences_offered</th>\n",
       "      <th>thumbnail_url</th>\n",
       "      <th>medium_url</th>\n",
       "      <th>picture_url</th>\n",
       "      <th>...</th>\n",
       "      <th>has_availability</th>\n",
       "      <th>calendar_last_scraped</th>\n",
       "      <th>first_review</th>\n",
       "      <th>last_review</th>\n",
       "      <th>requires_license</th>\n",
       "      <th>jurisdiction_names</th>\n",
       "      <th>instant_bookable</th>\n",
       "      <th>cancellation_policy</th>\n",
       "      <th>require_guest_profile_picture</th>\n",
       "      <th>require_guest_phone_verification</th>\n",
       "    </tr>\n",
       "  </thead>\n",
       "  <tbody>\n",
       "    <tr>\n",
       "      <th>count</th>\n",
       "      <td>3818</td>\n",
       "      <td>3818</td>\n",
       "      <td>3818</td>\n",
       "      <td>3641</td>\n",
       "      <td>3249</td>\n",
       "      <td>3818</td>\n",
       "      <td>3818</td>\n",
       "      <td>3498</td>\n",
       "      <td>3498</td>\n",
       "      <td>3818</td>\n",
       "      <td>...</td>\n",
       "      <td>3818</td>\n",
       "      <td>3818</td>\n",
       "      <td>3191</td>\n",
       "      <td>3191</td>\n",
       "      <td>3818</td>\n",
       "      <td>3818</td>\n",
       "      <td>3818</td>\n",
       "      <td>3818</td>\n",
       "      <td>3818</td>\n",
       "      <td>3818</td>\n",
       "    </tr>\n",
       "    <tr>\n",
       "      <th>unique</th>\n",
       "      <td>3818</td>\n",
       "      <td>1</td>\n",
       "      <td>3792</td>\n",
       "      <td>3478</td>\n",
       "      <td>3119</td>\n",
       "      <td>3742</td>\n",
       "      <td>1</td>\n",
       "      <td>3498</td>\n",
       "      <td>3498</td>\n",
       "      <td>3818</td>\n",
       "      <td>...</td>\n",
       "      <td>1</td>\n",
       "      <td>1</td>\n",
       "      <td>984</td>\n",
       "      <td>321</td>\n",
       "      <td>1</td>\n",
       "      <td>1</td>\n",
       "      <td>2</td>\n",
       "      <td>3</td>\n",
       "      <td>2</td>\n",
       "      <td>2</td>\n",
       "    </tr>\n",
       "    <tr>\n",
       "      <th>top</th>\n",
       "      <td>https://www.airbnb.com/rooms/1455269</td>\n",
       "      <td>2016-01-04</td>\n",
       "      <td>Capitol Hill Apartment</td>\n",
       "      <td>This is a modern fully-furnished studio apartm...</td>\n",
       "      <td>*Note: This fall, there will be major renovati...</td>\n",
       "      <td>Our space is a mix of a hostel and a home. We ...</td>\n",
       "      <td>none</td>\n",
       "      <td>https://a0.muscache.com/ac/pictures/104330368/...</td>\n",
       "      <td>https://a0.muscache.com/im/pictures/95692892/6...</td>\n",
       "      <td>https://a2.muscache.com/ac/pictures/f1e1c350-c...</td>\n",
       "      <td>...</td>\n",
       "      <td>t</td>\n",
       "      <td>2016-01-04</td>\n",
       "      <td>2015-09-21</td>\n",
       "      <td>2016-01-02</td>\n",
       "      <td>f</td>\n",
       "      <td>WASHINGTON</td>\n",
       "      <td>f</td>\n",
       "      <td>strict</td>\n",
       "      <td>f</td>\n",
       "      <td>f</td>\n",
       "    </tr>\n",
       "    <tr>\n",
       "      <th>freq</th>\n",
       "      <td>1</td>\n",
       "      <td>3818</td>\n",
       "      <td>3</td>\n",
       "      <td>15</td>\n",
       "      <td>14</td>\n",
       "      <td>10</td>\n",
       "      <td>3818</td>\n",
       "      <td>1</td>\n",
       "      <td>1</td>\n",
       "      <td>1</td>\n",
       "      <td>...</td>\n",
       "      <td>3818</td>\n",
       "      <td>3818</td>\n",
       "      <td>25</td>\n",
       "      <td>94</td>\n",
       "      <td>3818</td>\n",
       "      <td>3818</td>\n",
       "      <td>3227</td>\n",
       "      <td>1417</td>\n",
       "      <td>3497</td>\n",
       "      <td>3443</td>\n",
       "    </tr>\n",
       "  </tbody>\n",
       "</table>\n",
       "<p>4 rows × 53 columns</p>\n",
       "</div>"
      ],
      "text/plain": [
       "                                 listing_url last_scraped  \\\n",
       "count                                   3818         3818   \n",
       "unique                                  3818            1   \n",
       "top     https://www.airbnb.com/rooms/1455269   2016-01-04   \n",
       "freq                                       1         3818   \n",
       "\n",
       "                          name  \\\n",
       "count                     3818   \n",
       "unique                    3792   \n",
       "top     Capitol Hill Apartment   \n",
       "freq                         3   \n",
       "\n",
       "                                                  summary  \\\n",
       "count                                                3641   \n",
       "unique                                               3478   \n",
       "top     This is a modern fully-furnished studio apartm...   \n",
       "freq                                                   15   \n",
       "\n",
       "                                                    space  \\\n",
       "count                                                3249   \n",
       "unique                                               3119   \n",
       "top     *Note: This fall, there will be major renovati...   \n",
       "freq                                                   14   \n",
       "\n",
       "                                              description experiences_offered  \\\n",
       "count                                                3818                3818   \n",
       "unique                                               3742                   1   \n",
       "top     Our space is a mix of a hostel and a home. We ...                none   \n",
       "freq                                                   10                3818   \n",
       "\n",
       "                                            thumbnail_url  \\\n",
       "count                                                3498   \n",
       "unique                                               3498   \n",
       "top     https://a0.muscache.com/ac/pictures/104330368/...   \n",
       "freq                                                    1   \n",
       "\n",
       "                                               medium_url  \\\n",
       "count                                                3498   \n",
       "unique                                               3498   \n",
       "top     https://a0.muscache.com/im/pictures/95692892/6...   \n",
       "freq                                                    1   \n",
       "\n",
       "                                              picture_url  \\\n",
       "count                                                3818   \n",
       "unique                                               3818   \n",
       "top     https://a2.muscache.com/ac/pictures/f1e1c350-c...   \n",
       "freq                                                    1   \n",
       "\n",
       "                     ...                has_availability  \\\n",
       "count                ...                            3818   \n",
       "unique               ...                               1   \n",
       "top                  ...                               t   \n",
       "freq                 ...                            3818   \n",
       "\n",
       "       calendar_last_scraped first_review last_review requires_license  \\\n",
       "count                   3818         3191        3191             3818   \n",
       "unique                     1          984         321                1   \n",
       "top               2016-01-04   2015-09-21  2016-01-02                f   \n",
       "freq                    3818           25          94             3818   \n",
       "\n",
       "       jurisdiction_names instant_bookable cancellation_policy  \\\n",
       "count                3818             3818                3818   \n",
       "unique                  1                2                   3   \n",
       "top            WASHINGTON                f              strict   \n",
       "freq                 3818             3227                1417   \n",
       "\n",
       "       require_guest_profile_picture require_guest_phone_verification  \n",
       "count                           3818                             3818  \n",
       "unique                             2                                2  \n",
       "top                                f                                f  \n",
       "freq                            3497                             3443  \n",
       "\n",
       "[4 rows x 53 columns]"
      ]
     },
     "execution_count": 53,
     "metadata": {},
     "output_type": "execute_result"
    }
   ],
   "source": [
    "# summary of character variables\n",
    "listing.describe(include=[\"O\"])"
   ]
  },
  {
   "cell_type": "code",
   "execution_count": 64,
   "metadata": {},
   "outputs": [
    {
     "data": {
      "text/plain": [
       "['listing_url',\n",
       " 'last_scraped',\n",
       " 'name',\n",
       " 'summary',\n",
       " 'space',\n",
       " 'description',\n",
       " 'experiences_offered',\n",
       " 'thumbnail_url',\n",
       " 'medium_url',\n",
       " 'picture_url',\n",
       " 'xl_picture_url',\n",
       " 'host_url',\n",
       " 'host_name',\n",
       " 'host_since',\n",
       " 'host_location',\n",
       " 'host_response_time',\n",
       " 'host_response_rate',\n",
       " 'host_is_superhost',\n",
       " 'host_thumbnail_url',\n",
       " 'host_picture_url',\n",
       " 'host_neighbourhood',\n",
       " 'host_verifications',\n",
       " 'host_has_profile_pic',\n",
       " 'host_identity_verified',\n",
       " 'street',\n",
       " 'neighbourhood',\n",
       " 'neighbourhood_cleansed',\n",
       " 'neighbourhood_group_cleansed',\n",
       " 'city',\n",
       " 'state',\n",
       " 'zipcode',\n",
       " 'market',\n",
       " 'smart_location',\n",
       " 'country_code',\n",
       " 'country',\n",
       " 'is_location_exact',\n",
       " 'property_type',\n",
       " 'room_type',\n",
       " 'bed_type',\n",
       " 'amenities',\n",
       " 'price',\n",
       " 'extra_people',\n",
       " 'calendar_updated',\n",
       " 'has_availability',\n",
       " 'calendar_last_scraped',\n",
       " 'first_review',\n",
       " 'last_review',\n",
       " 'requires_license',\n",
       " 'jurisdiction_names',\n",
       " 'instant_bookable',\n",
       " 'cancellation_policy',\n",
       " 'require_guest_profile_picture',\n",
       " 'require_guest_phone_verification']"
      ]
     },
     "execution_count": 64,
     "metadata": {},
     "output_type": "execute_result"
    }
   ],
   "source": [
    "listing.select_dtypes(include=['object']).columns.tolist()"
   ]
  },
  {
   "cell_type": "code",
   "execution_count": 68,
   "metadata": {},
   "outputs": [
    {
     "name": "stdout",
     "output_type": "stream",
     "text": [
      "House              1733\n",
      "Apartment          1708\n",
      "Townhouse           118\n",
      "Condominium          91\n",
      "Loft                 40\n",
      "Bed & Breakfast      37\n",
      "Other                22\n",
      "Cabin                21\n",
      "Camper/RV            13\n",
      "Bungalow             13\n",
      "Boat                  8\n",
      "Tent                  5\n",
      "Treehouse             3\n",
      "Dorm                  2\n",
      "Chalet                2\n",
      "Yurt                  1\n",
      "Name: property_type, dtype: int64\n",
      "Entire home/apt    2541\n",
      "Private room       1160\n",
      "Shared room         117\n",
      "Name: room_type, dtype: int64\n",
      "Real Bed         3657\n",
      "Futon              74\n",
      "Pull-out Sofa      47\n",
      "Airbed             27\n",
      "Couch              13\n",
      "Name: bed_type, dtype: int64\n",
      "strict      1417\n",
      "moderate    1251\n",
      "flexible    1150\n",
      "Name: cancellation_policy, dtype: int64\n",
      "f    3227\n",
      "t     591\n",
      "Name: instant_bookable, dtype: int64\n"
     ]
    }
   ],
   "source": [
    "# value counts of some important variables\n",
    "imp_column = [ 'property_type','room_type','bed_type','cancellation_policy','instant_bookable']\n",
    "for x in imp_column:\n",
    "    print(listing[x].value_counts())"
   ]
  },
  {
   "cell_type": "code",
   "execution_count": 80,
   "metadata": {},
   "outputs": [
    {
     "data": {
      "text/plain": [
       "House              1733\n",
       "Apartment          1708\n",
       "Townhouse           118\n",
       "Condominium          91\n",
       "Loft                 40\n",
       "Bed & Breakfast      37\n",
       "Other                22\n",
       "Cabin                21\n",
       "Camper/RV            13\n",
       "Bungalow             13\n",
       "Boat                  8\n",
       "Tent                  5\n",
       "Treehouse             3\n",
       "Dorm                  2\n",
       "Chalet                2\n",
       "Yurt                  1\n",
       "Name: property_type, dtype: int64"
      ]
     },
     "execution_count": 80,
     "metadata": {},
     "output_type": "execute_result"
    }
   ],
   "source": [
    "listing['property_type'].value_counts()"
   ]
  },
  {
   "cell_type": "code",
   "execution_count": 91,
   "metadata": {},
   "outputs": [],
   "source": [
    "# recoding property type variable\n",
    "list1 = ['Bed & Breakfast','Other','Cabin','Camper/RV','Bungalow','Boat','Tent','Treehouse','Dorm','Chalet','Yurt']\n",
    "listing['property_type'] = listing['property_type'].apply(lambda x: 'other_prop_type' if x in list1 else x) "
   ]
  },
  {
   "cell_type": "code",
   "execution_count": 92,
   "metadata": {},
   "outputs": [
    {
     "data": {
      "text/plain": [
       "House              1733\n",
       "Apartment          1708\n",
       "other_prop_type     127\n",
       "Townhouse           118\n",
       "Condominium          91\n",
       "Loft                 40\n",
       "Name: property_type, dtype: int64"
      ]
     },
     "execution_count": 92,
     "metadata": {},
     "output_type": "execute_result"
    }
   ],
   "source": [
    "listing['property_type'].value_counts()"
   ]
  },
  {
   "cell_type": "code",
   "execution_count": 70,
   "metadata": {},
   "outputs": [
    {
     "data": {
      "text/plain": [
       "0    {TV,\"Cable TV\",Internet,\"Wireless Internet\",\"A...\n",
       "1    {TV,Internet,\"Wireless Internet\",Kitchen,\"Free...\n",
       "2    {TV,\"Cable TV\",Internet,\"Wireless Internet\",\"A...\n",
       "3    {Internet,\"Wireless Internet\",Kitchen,\"Indoor ...\n",
       "4    {TV,\"Cable TV\",Internet,\"Wireless Internet\",Ki...\n",
       "Name: amenities, dtype: object"
      ]
     },
     "execution_count": 70,
     "metadata": {},
     "output_type": "execute_result"
    }
   ],
   "source": [
    "listing['amenities'].head()"
   ]
  },
  {
   "cell_type": "code",
   "execution_count": 72,
   "metadata": {},
   "outputs": [
    {
     "data": {
      "text/plain": [
       "review_scores_accuracy            658\n",
       "review_scores_checkin             658\n",
       "review_scores_value               656\n",
       "review_scores_location            655\n",
       "review_scores_cleanliness         653\n",
       "review_scores_communication       651\n",
       "review_scores_rating              647\n",
       "first_review                      627\n",
       "last_review                       627\n",
       "reviews_per_month                 627\n",
       "space                             569\n",
       "host_response_rate                523\n",
       "host_response_time                523\n",
       "neighbourhood                     416\n",
       "thumbnail_url                     320\n",
       "medium_url                        320\n",
       "xl_picture_url                    320\n",
       "host_neighbourhood                300\n",
       "summary                           177\n",
       "bathrooms                          16\n",
       "host_location                       8\n",
       "zipcode                             7\n",
       "bedrooms                            6\n",
       "host_since                          2\n",
       "host_thumbnail_url                  2\n",
       "host_is_superhost                   2\n",
       "host_picture_url                    2\n",
       "host_name                           2\n",
       "host_listings_count                 2\n",
       "host_total_listings_count           2\n",
       "                                 ... \n",
       "require_guest_profile_picture       0\n",
       "cancellation_policy                 0\n",
       "instant_bookable                    0\n",
       "jurisdiction_names                  0\n",
       "requires_license                    0\n",
       "number_of_reviews                   0\n",
       "calendar_last_scraped               0\n",
       "availability_365                    0\n",
       "availability_90                     0\n",
       "availability_60                     0\n",
       "availability_30                     0\n",
       "has_availability                    0\n",
       "calendar_updated                    0\n",
       "minimum_nights                      0\n",
       "state                               0\n",
       "extra_people                        0\n",
       "guests_included                     0\n",
       "price                               0\n",
       "amenities                           0\n",
       "bed_type                            0\n",
       "accommodates                        0\n",
       "room_type                           0\n",
       "is_location_exact                   0\n",
       "longitude                           0\n",
       "calculated_host_listings_count      0\n",
       "country                             0\n",
       "country_code                        0\n",
       "smart_location                      0\n",
       "market                              0\n",
       "id                                  0\n",
       "Length: 81, dtype: int64"
      ]
     },
     "execution_count": 72,
     "metadata": {},
     "output_type": "execute_result"
    }
   ],
   "source": [
    "# all variable missing values\n",
    "listing.isnull().sum().sort_values(ascending=False)"
   ]
  },
  {
   "cell_type": "code",
   "execution_count": 74,
   "metadata": {},
   "outputs": [],
   "source": [
    "# fill 0 for beds, bedrooms and bathrooms\n",
    "listing.beds.fillna(0,inplace=True)\n",
    "listing.bedrooms.fillna(0,inplace=True)\n",
    "listing.bathrooms.fillna(0,inplace=True)"
   ]
  },
  {
   "cell_type": "code",
   "execution_count": 145,
   "metadata": {},
   "outputs": [
    {
     "name": "stdout",
     "output_type": "stream",
     "text": [
      "Avg no. of bedroom are 1.31  , Avg no. of bathrooms are 1.25 & Avg no of guests are 3.35\n"
     ]
    }
   ],
   "source": [
    "print('Avg no. of bedroom are {0:.2f}'.format(listing.bedrooms.mean()),\n",
    "     ' , Avg no. of bathrooms are {0:.2f}'.format(listing.bathrooms.mean()),\n",
    "     '& Avg no of guests are {0:.2f}'.format(listing.accommodates.mean()))"
   ]
  },
  {
   "cell_type": "code",
   "execution_count": 98,
   "metadata": {},
   "outputs": [
    {
     "data": {
      "text/plain": [
       "1.3056574122577265"
      ]
     },
     "execution_count": 98,
     "metadata": {},
     "output_type": "execute_result"
    }
   ],
   "source": [
    "listing.bedrooms.mean()"
   ]
  },
  {
   "cell_type": "code",
   "execution_count": 93,
   "metadata": {},
   "outputs": [],
   "source": [
    "listing.to_pickle(\"C://Users//CHANGKE7//OneDrive - Novartis Pharma AG//Udacity//Data Science//seattle//listing1.pkl\")"
   ]
  },
  {
   "cell_type": "code",
   "execution_count": 298,
   "metadata": {},
   "outputs": [],
   "source": [
    "listing=pd.read_pickle(\"C://Users//CHANGKE7//OneDrive - Novartis Pharma AG//Udacity//Data Science//seattle//listing1.pkl\")"
   ]
  },
  {
   "cell_type": "code",
   "execution_count": 299,
   "metadata": {},
   "outputs": [],
   "source": [
    "# recode a few categorical variables\n",
    "dict1 = {'t': 1, 'f': 0}\n",
    "listing['host_has_profile_pic'] = listing['host_has_profile_pic'].replace(dict1)\n",
    "listing['host_identity_verified'] = listing['host_identity_verified'].replace(dict1)\n",
    "listing['instant_bookable'] = listing['instant_bookable'].replace(dict1)"
   ]
  },
  {
   "cell_type": "code",
   "execution_count": 191,
   "metadata": {},
   "outputs": [
    {
     "data": {
      "text/plain": [
       "Real Bed         3657\n",
       "Futon              74\n",
       "Pull-out Sofa      47\n",
       "Airbed             27\n",
       "Couch              13\n",
       "Name: bed_type, dtype: int64"
      ]
     },
     "execution_count": 191,
     "metadata": {},
     "output_type": "execute_result"
    }
   ],
   "source": [
    "listing['bed_type'].value_counts()"
   ]
  },
  {
   "cell_type": "code",
   "execution_count": 300,
   "metadata": {},
   "outputs": [],
   "source": [
    "# recode bed type\n",
    "list2 = ['Futon','Pull-out Sofa','Airbed','Couch']\n",
    "listing['bed_type'] = listing['bed_type'].apply(lambda x: 'other_bed_type' if x in list2 else x) "
   ]
  },
  {
   "cell_type": "code",
   "execution_count": 301,
   "metadata": {},
   "outputs": [],
   "source": [
    "# One-hot encoding for some variables\n",
    "list3=['room_type', 'property_type', 'bed_type', 'cancellation_policy']\n",
    "dummies = pd.get_dummies(listing[list3])\n",
    "listing=pd.concat([listing,dummies],axis=1)\n"
   ]
  },
  {
   "cell_type": "code",
   "execution_count": 302,
   "metadata": {},
   "outputs": [
    {
     "data": {
      "text/plain": [
       "(3818, 95)"
      ]
     },
     "execution_count": 302,
     "metadata": {},
     "output_type": "execute_result"
    }
   ],
   "source": [
    "listing.shape"
   ]
  },
  {
   "cell_type": "code",
   "execution_count": 303,
   "metadata": {},
   "outputs": [
    {
     "data": {
      "text/plain": [
       "{}    45\n",
       "Name: amenities, dtype: int64"
      ]
     },
     "execution_count": 303,
     "metadata": {},
     "output_type": "execute_result"
    }
   ],
   "source": [
    "# recode 'Amenities' variable\n",
    "listing.loc[listing['amenities'] == '{}','amenities'].value_counts()"
   ]
  },
  {
   "cell_type": "code",
   "execution_count": 304,
   "metadata": {},
   "outputs": [],
   "source": [
    "# recoding missing\n",
    "listing.loc[listing['amenities'] == '{}','amenities'] = \" \""
   ]
  },
  {
   "cell_type": "code",
   "execution_count": 196,
   "metadata": {},
   "outputs": [
    {
     "data": {
      "text/plain": [
       "0    {TV,\"Cable TV\",Internet,\"Wireless Internet\",\"A...\n",
       "1    {TV,Internet,\"Wireless Internet\",Kitchen,\"Free...\n",
       "2    {TV,\"Cable TV\",Internet,\"Wireless Internet\",\"A...\n",
       "3    {Internet,\"Wireless Internet\",Kitchen,\"Indoor ...\n",
       "4    {TV,\"Cable TV\",Internet,\"Wireless Internet\",Ki...\n",
       "Name: amenities, dtype: object"
      ]
     },
     "execution_count": 196,
     "metadata": {},
     "output_type": "execute_result"
    }
   ],
   "source": [
    "listing.amenities.head()"
   ]
  },
  {
   "cell_type": "code",
   "execution_count": 305,
   "metadata": {},
   "outputs": [
    {
     "name": "stderr",
     "output_type": "stream",
     "text": [
      "C:\\ProgramData\\Anaconda3\\lib\\site-packages\\ipykernel_launcher.py:2: SettingWithCopyWarning: \n",
      "A value is trying to be set on a copy of a slice from a DataFrame\n",
      "\n",
      "See the caveats in the documentation: http://pandas.pydata.org/pandas-docs/stable/indexing.html#indexing-view-versus-copy\n",
      "  \n"
     ]
    }
   ],
   "source": [
    "for i in range(listing.shape[0]):\n",
    "    listing['amenities'][i]=listing['amenities'][i].replace(\"{\",\"\").replace(\"}\",\"\").replace('\"',\"\").replace(\",\",\"|\")"
   ]
  },
  {
   "cell_type": "code",
   "execution_count": 199,
   "metadata": {},
   "outputs": [],
   "source": [
    "listing.to_pickle(\"C://Users//CHANGKE7//OneDrive - Novartis Pharma AG//Udacity//Data Science//seattle//listing2.pkl\")"
   ]
  },
  {
   "cell_type": "code",
   "execution_count": 272,
   "metadata": {},
   "outputs": [],
   "source": [
    "listing=pd.read_pickle(\"C://Users//CHANGKE7//OneDrive - Novartis Pharma AG//Udacity//Data Science//seattle//listing2.pkl\")"
   ]
  },
  {
   "cell_type": "code",
   "execution_count": 306,
   "metadata": {},
   "outputs": [],
   "source": [
    "amns=[]\n",
    "for i in range(listing.shape[0]):\n",
    "    amnseries=pd.Series(amns.append(listing['amenities'][i].split(\"|\")))"
   ]
  },
  {
   "cell_type": "code",
   "execution_count": 307,
   "metadata": {},
   "outputs": [],
   "source": [
    "amns1=[]\n",
    "for i in range(len(amns)):\n",
    "    amns2 = amns[i]\n",
    "    for j in range(len(amns2)):\n",
    "        amns1.append(amns2[j])\n",
    "        "
   ]
  },
  {
   "cell_type": "code",
   "execution_count": 308,
   "metadata": {},
   "outputs": [],
   "source": [
    "amnseries = pd.Series(amns1)\n",
    "amnlist=amnseries.unique().tolist()\n"
   ]
  },
  {
   "cell_type": "code",
   "execution_count": 309,
   "metadata": {},
   "outputs": [
    {
     "data": {
      "text/plain": [
       "'TV|Cable TV|Internet|Wireless Internet|Air Conditioning|Kitchen|Heating|Family/Kid Friendly|Washer|Dryer'"
      ]
     },
     "execution_count": 309,
     "metadata": {},
     "output_type": "execute_result"
    }
   ],
   "source": [
    "listing['amenities'][0]\n"
   ]
  },
  {
   "cell_type": "code",
   "execution_count": 310,
   "metadata": {},
   "outputs": [],
   "source": [
    "# create dataframe df with amenities flag as 1 for the particular amenity in the row\n",
    "df=pd.DataFrame()\n",
    "for i in range(listing.shape[0]):\n",
    "    for value in amnlist:\n",
    "        if listing['amenities'][i].split(\"|\").count(value) > 0:\n",
    "            df.loc[i,value]=1\n",
    "        else:\n",
    "            df.loc[i,value]=0"
   ]
  },
  {
   "cell_type": "code",
   "execution_count": 311,
   "metadata": {},
   "outputs": [],
   "source": [
    "amenity_recode={\n",
    "                'Air Conditioning':'Weather Control',\n",
    "                'Indoor Fireplace':'Weather Control',\n",
    "                'Heating':'Weather Control',\n",
    "        \n",
    "                'Carbon Monoxide Detector':'Safety Features',\n",
    "                'Fire Extinguisher':'Safety Features',\n",
    "                'First Aid Kit':'Safety Features',\n",
    "                'Smoke Detector':'Safety Features',\n",
    "                \n",
    "                'Buzzer/Wireless Intercom':'Security Features',\n",
    "                'Doorman':'Security Features',\n",
    "                'Safety Card':'Security Features',\n",
    "                'Lock on Bedroom Door':'Security Features',\n",
    "                \n",
    "                'Cat(s)':'Pet Friendly',\n",
    "                'Dog(s)':'Pet Friendly',\n",
    "                'Pets Allowed':'Pet Friendly',\n",
    "                'Pets live on this property':'Pet Friendly',\n",
    "                'Other pet(s)':'Pet Friendly',\n",
    "                \n",
    "                'Elevator in Building':'Access Friendly',\n",
    "                'Wheelchair Accessible':'Access Friendly',\n",
    "                \n",
    "                'Essentials':'Essentials',\n",
    "                'Hair Dryer':'Essentials',\n",
    "                'Hangers':'Essentials',\n",
    "                'Iron':'Essentials',\n",
    "                'Shampoo':'Essentials',             \n",
    "                \n",
    "                'Cable TV':'TV',\n",
    "                'TV':'TV',\n",
    "                \n",
    "                'Internet':'Internet',\n",
    "                'Wireless Internet':'Internet',\n",
    "                'Laptop Friendly Workspace':'Internet',\n",
    "                \n",
    "                'Dryer':'Laundry Facility',\n",
    "                'Washer':'Laundry Facility',\n",
    "                'Washer / Dryer':'Laundry Facility'}\n",
    "    "
   ]
  },
  {
   "cell_type": "code",
   "execution_count": 312,
   "metadata": {},
   "outputs": [
    {
     "data": {
      "text/html": [
       "<div>\n",
       "<style scoped>\n",
       "    .dataframe tbody tr th:only-of-type {\n",
       "        vertical-align: middle;\n",
       "    }\n",
       "\n",
       "    .dataframe tbody tr th {\n",
       "        vertical-align: top;\n",
       "    }\n",
       "\n",
       "    .dataframe thead th {\n",
       "        text-align: right;\n",
       "    }\n",
       "</style>\n",
       "<table border=\"1\" class=\"dataframe\">\n",
       "  <thead>\n",
       "    <tr style=\"text-align: right;\">\n",
       "      <th></th>\n",
       "      <th>index</th>\n",
       "      <th>TV</th>\n",
       "      <th>Cable TV</th>\n",
       "      <th>Internet</th>\n",
       "      <th>Wireless Internet</th>\n",
       "      <th>Air Conditioning</th>\n",
       "      <th>Kitchen</th>\n",
       "      <th>Heating</th>\n",
       "      <th>Family/Kid Friendly</th>\n",
       "      <th>Washer</th>\n",
       "      <th>...</th>\n",
       "      <th>Elevator in Building</th>\n",
       "      <th>Lock on Bedroom Door</th>\n",
       "      <th>Wheelchair Accessible</th>\n",
       "      <th>Gym</th>\n",
       "      <th></th>\n",
       "      <th>Pool</th>\n",
       "      <th>Smoking Allowed</th>\n",
       "      <th>Other pet(s)</th>\n",
       "      <th>Doorman</th>\n",
       "      <th>Washer / Dryer</th>\n",
       "    </tr>\n",
       "  </thead>\n",
       "  <tbody>\n",
       "    <tr>\n",
       "      <th>0</th>\n",
       "      <td>0</td>\n",
       "      <td>1.0</td>\n",
       "      <td>1.0</td>\n",
       "      <td>1.0</td>\n",
       "      <td>1.0</td>\n",
       "      <td>1.0</td>\n",
       "      <td>1.0</td>\n",
       "      <td>1.0</td>\n",
       "      <td>1.0</td>\n",
       "      <td>1.0</td>\n",
       "      <td>...</td>\n",
       "      <td>0.0</td>\n",
       "      <td>0.0</td>\n",
       "      <td>0.0</td>\n",
       "      <td>0.0</td>\n",
       "      <td>0.0</td>\n",
       "      <td>0.0</td>\n",
       "      <td>0.0</td>\n",
       "      <td>0.0</td>\n",
       "      <td>0.0</td>\n",
       "      <td>0.0</td>\n",
       "    </tr>\n",
       "    <tr>\n",
       "      <th>1</th>\n",
       "      <td>1</td>\n",
       "      <td>1.0</td>\n",
       "      <td>0.0</td>\n",
       "      <td>1.0</td>\n",
       "      <td>1.0</td>\n",
       "      <td>0.0</td>\n",
       "      <td>1.0</td>\n",
       "      <td>1.0</td>\n",
       "      <td>1.0</td>\n",
       "      <td>1.0</td>\n",
       "      <td>...</td>\n",
       "      <td>0.0</td>\n",
       "      <td>0.0</td>\n",
       "      <td>0.0</td>\n",
       "      <td>0.0</td>\n",
       "      <td>0.0</td>\n",
       "      <td>0.0</td>\n",
       "      <td>0.0</td>\n",
       "      <td>0.0</td>\n",
       "      <td>0.0</td>\n",
       "      <td>0.0</td>\n",
       "    </tr>\n",
       "    <tr>\n",
       "      <th>2</th>\n",
       "      <td>2</td>\n",
       "      <td>1.0</td>\n",
       "      <td>1.0</td>\n",
       "      <td>1.0</td>\n",
       "      <td>1.0</td>\n",
       "      <td>1.0</td>\n",
       "      <td>1.0</td>\n",
       "      <td>1.0</td>\n",
       "      <td>1.0</td>\n",
       "      <td>1.0</td>\n",
       "      <td>...</td>\n",
       "      <td>0.0</td>\n",
       "      <td>0.0</td>\n",
       "      <td>0.0</td>\n",
       "      <td>0.0</td>\n",
       "      <td>0.0</td>\n",
       "      <td>0.0</td>\n",
       "      <td>0.0</td>\n",
       "      <td>0.0</td>\n",
       "      <td>0.0</td>\n",
       "      <td>0.0</td>\n",
       "    </tr>\n",
       "    <tr>\n",
       "      <th>3</th>\n",
       "      <td>3</td>\n",
       "      <td>0.0</td>\n",
       "      <td>0.0</td>\n",
       "      <td>1.0</td>\n",
       "      <td>1.0</td>\n",
       "      <td>0.0</td>\n",
       "      <td>1.0</td>\n",
       "      <td>1.0</td>\n",
       "      <td>1.0</td>\n",
       "      <td>1.0</td>\n",
       "      <td>...</td>\n",
       "      <td>0.0</td>\n",
       "      <td>0.0</td>\n",
       "      <td>0.0</td>\n",
       "      <td>0.0</td>\n",
       "      <td>0.0</td>\n",
       "      <td>0.0</td>\n",
       "      <td>0.0</td>\n",
       "      <td>0.0</td>\n",
       "      <td>0.0</td>\n",
       "      <td>0.0</td>\n",
       "    </tr>\n",
       "    <tr>\n",
       "      <th>4</th>\n",
       "      <td>4</td>\n",
       "      <td>1.0</td>\n",
       "      <td>1.0</td>\n",
       "      <td>1.0</td>\n",
       "      <td>1.0</td>\n",
       "      <td>0.0</td>\n",
       "      <td>1.0</td>\n",
       "      <td>1.0</td>\n",
       "      <td>1.0</td>\n",
       "      <td>0.0</td>\n",
       "      <td>...</td>\n",
       "      <td>0.0</td>\n",
       "      <td>0.0</td>\n",
       "      <td>0.0</td>\n",
       "      <td>0.0</td>\n",
       "      <td>0.0</td>\n",
       "      <td>0.0</td>\n",
       "      <td>0.0</td>\n",
       "      <td>0.0</td>\n",
       "      <td>0.0</td>\n",
       "      <td>0.0</td>\n",
       "    </tr>\n",
       "  </tbody>\n",
       "</table>\n",
       "<p>5 rows × 43 columns</p>\n",
       "</div>"
      ],
      "text/plain": [
       "   index   TV  Cable TV  Internet  Wireless Internet  Air Conditioning  \\\n",
       "0      0  1.0       1.0       1.0                1.0               1.0   \n",
       "1      1  1.0       0.0       1.0                1.0               0.0   \n",
       "2      2  1.0       1.0       1.0                1.0               1.0   \n",
       "3      3  0.0       0.0       1.0                1.0               0.0   \n",
       "4      4  1.0       1.0       1.0                1.0               0.0   \n",
       "\n",
       "   Kitchen  Heating  Family/Kid Friendly  Washer       ...        \\\n",
       "0      1.0      1.0                  1.0     1.0       ...         \n",
       "1      1.0      1.0                  1.0     1.0       ...         \n",
       "2      1.0      1.0                  1.0     1.0       ...         \n",
       "3      1.0      1.0                  1.0     1.0       ...         \n",
       "4      1.0      1.0                  1.0     0.0       ...         \n",
       "\n",
       "   Elevator in Building  Lock on Bedroom Door  Wheelchair Accessible  Gym  \\\n",
       "0                   0.0                   0.0                    0.0  0.0   \n",
       "1                   0.0                   0.0                    0.0  0.0   \n",
       "2                   0.0                   0.0                    0.0  0.0   \n",
       "3                   0.0                   0.0                    0.0  0.0   \n",
       "4                   0.0                   0.0                    0.0  0.0   \n",
       "\n",
       "        Pool  Smoking Allowed  Other pet(s)  Doorman  Washer / Dryer  \n",
       "0  0.0   0.0              0.0           0.0      0.0             0.0  \n",
       "1  0.0   0.0              0.0           0.0      0.0             0.0  \n",
       "2  0.0   0.0              0.0           0.0      0.0             0.0  \n",
       "3  0.0   0.0              0.0           0.0      0.0             0.0  \n",
       "4  0.0   0.0              0.0           0.0      0.0             0.0  \n",
       "\n",
       "[5 rows x 43 columns]"
      ]
     },
     "execution_count": 312,
     "metadata": {},
     "output_type": "execute_result"
    }
   ],
   "source": [
    "df1=df.reset_index()\n",
    "df1.head()"
   ]
  },
  {
   "cell_type": "code",
   "execution_count": 313,
   "metadata": {},
   "outputs": [
    {
     "data": {
      "text/plain": [
       "(3818, 20)"
      ]
     },
     "execution_count": 313,
     "metadata": {},
     "output_type": "execute_result"
    }
   ],
   "source": [
    "# since multiple amenities are coded under one heading, grouping the flags for the headings\n",
    "df_melt = df1.melt(id_vars=['index'], var_name='amenity')\n",
    "df_melt['amenity'] = df_melt['amenity'].replace(amenity_recode)\n",
    "df_melt_pivot = df_melt.pivot_table(\n",
    "    index='index',\n",
    "    columns='amenity',\n",
    "    values='value', \n",
    "    aggfunc='max'\n",
    ")\n",
    "\n",
    "df_melt_pivot.shape\n"
   ]
  },
  {
   "cell_type": "code",
   "execution_count": 314,
   "metadata": {},
   "outputs": [
    {
     "data": {
      "text/plain": [
       "(3818, 115)"
      ]
     },
     "execution_count": 314,
     "metadata": {},
     "output_type": "execute_result"
    }
   ],
   "source": [
    "listing = pd.concat([listing,df_melt_pivot],axis=1)\n",
    "listing.shape"
   ]
  },
  {
   "cell_type": "code",
   "execution_count": 275,
   "metadata": {},
   "outputs": [],
   "source": [
    "import matplotlib.pyplot as plt\n",
    "import seaborn as sns"
   ]
  },
  {
   "cell_type": "code",
   "execution_count": 278,
   "metadata": {},
   "outputs": [
    {
     "data": {
      "text/plain": [
       "<matplotlib.axes._subplots.AxesSubplot at 0x277b774bfd0>"
      ]
     },
     "execution_count": 278,
     "metadata": {},
     "output_type": "execute_result"
    },
    {
     "data": {
      "image/png": "[encoded data removed]",
      "text/plain": [
       "<Figure size 864x864 with 2 Axes>"
      ]
     },
     "metadata": {},
     "output_type": "display_data"
    }
   ],
   "source": [
    "# correlation analysis among the amenities\n",
    "fig = plt.figure(figsize= (12,12))\n",
    "sns.heatmap(df_melt_pivot.corr(), annot=False, vmax=1, cmap='viridis', square=False)"
   ]
  },
  {
   "cell_type": "code",
   "execution_count": 315,
   "metadata": {},
   "outputs": [
    {
     "name": "stderr",
     "output_type": "stream",
     "text": [
      "C:\\ProgramData\\Anaconda3\\lib\\site-packages\\ipykernel_launcher.py:2: SettingWithCopyWarning: \n",
      "A value is trying to be set on a copy of a slice from a DataFrame\n",
      "\n",
      "See the caveats in the documentation: http://pandas.pydata.org/pandas-docs/stable/indexing.html#indexing-view-versus-copy\n",
      "  \n"
     ]
    }
   ],
   "source": [
    "for i in range(listing.shape[0]):\n",
    "    listing['price'][i]=listing['price'][i].replace(\"$\",\"\").replace(\",\",\"\")"
   ]
  },
  {
   "cell_type": "code",
   "execution_count": 316,
   "metadata": {},
   "outputs": [],
   "source": [
    "listing['price']=listing['price'].astype(float)"
   ]
  },
  {
   "cell_type": "code",
   "execution_count": 317,
   "metadata": {},
   "outputs": [
    {
     "name": "stderr",
     "output_type": "stream",
     "text": [
      "C:\\ProgramData\\Anaconda3\\lib\\site-packages\\matplotlib\\axes\\_axes.py:6462: UserWarning: The 'normed' kwarg is deprecated, and has been replaced by the 'density' kwarg.\n",
      "  warnings.warn(\"The 'normed' kwarg is deprecated, and has been \"\n"
     ]
    },
    {
     "data": {
      "text/plain": [
       "<matplotlib.axes._subplots.AxesSubplot at 0x277b8d7a630>"
      ]
     },
     "execution_count": 317,
     "metadata": {},
     "output_type": "execute_result"
    },
    {
     "data": {
      "image/png": "[encoded data removed]",
      "text/plain": [
       "<Figure size 432x288 with 1 Axes>"
      ]
     },
     "metadata": {},
     "output_type": "display_data"
    }
   ],
   "source": [
    "# price trends\n",
    "sns.distplot(listing.price)"
   ]
  },
  {
   "cell_type": "code",
   "execution_count": 413,
   "metadata": {},
   "outputs": [
    {
     "data": {
      "text/plain": [
       "127.97616553169199"
      ]
     },
     "execution_count": 413,
     "metadata": {},
     "output_type": "execute_result"
    }
   ],
   "source": [
    "listing.price.mean()"
   ]
  },
  {
   "cell_type": "code",
   "execution_count": 415,
   "metadata": {},
   "outputs": [
    {
     "data": {
      "text/plain": [
       "100.0"
      ]
     },
     "execution_count": 415,
     "metadata": {},
     "output_type": "execute_result"
    }
   ],
   "source": [
    "listing.price.median()"
   ]
  },
  {
   "cell_type": "code",
   "execution_count": 318,
   "metadata": {},
   "outputs": [],
   "source": [
    "listing.to_pickle(\"C://Users//CHANGKE7//OneDrive - Novartis Pharma AG//Udacity//Data Science//seattle//listing3.pkl\")"
   ]
  },
  {
   "cell_type": "code",
   "execution_count": 321,
   "metadata": {},
   "outputs": [
    {
     "data": {
      "text/plain": [
       "49"
      ]
     },
     "execution_count": 321,
     "metadata": {},
     "output_type": "execute_result"
    }
   ],
   "source": [
    "len(list(listing.select_dtypes(include=['object']).columns))"
   ]
  },
  {
   "cell_type": "code",
   "execution_count": 322,
   "metadata": {},
   "outputs": [
    {
     "data": {
      "text/plain": [
       "(3818, 115)"
      ]
     },
     "execution_count": 322,
     "metadata": {},
     "output_type": "execute_result"
    }
   ],
   "source": [
    "listing.shape"
   ]
  },
  {
   "cell_type": "code",
   "execution_count": 323,
   "metadata": {},
   "outputs": [
    {
     "data": {
      "text/plain": [
       "['listing_url',\n",
       " 'last_scraped',\n",
       " 'name',\n",
       " 'summary',\n",
       " 'space',\n",
       " 'description',\n",
       " 'experiences_offered',\n",
       " 'thumbnail_url',\n",
       " 'medium_url',\n",
       " 'picture_url',\n",
       " 'xl_picture_url',\n",
       " 'host_url',\n",
       " 'host_name',\n",
       " 'host_since',\n",
       " 'host_location',\n",
       " 'host_response_time',\n",
       " 'host_response_rate',\n",
       " 'host_is_superhost',\n",
       " 'host_thumbnail_url',\n",
       " 'host_picture_url',\n",
       " 'host_neighbourhood',\n",
       " 'host_verifications',\n",
       " 'street',\n",
       " 'neighbourhood',\n",
       " 'neighbourhood_cleansed',\n",
       " 'neighbourhood_group_cleansed',\n",
       " 'city',\n",
       " 'state',\n",
       " 'zipcode',\n",
       " 'market',\n",
       " 'smart_location',\n",
       " 'country_code',\n",
       " 'country',\n",
       " 'is_location_exact',\n",
       " 'property_type',\n",
       " 'room_type',\n",
       " 'bed_type',\n",
       " 'amenities',\n",
       " 'extra_people',\n",
       " 'calendar_updated',\n",
       " 'has_availability',\n",
       " 'calendar_last_scraped',\n",
       " 'first_review',\n",
       " 'last_review',\n",
       " 'requires_license',\n",
       " 'jurisdiction_names',\n",
       " 'cancellation_policy',\n",
       " 'require_guest_profile_picture',\n",
       " 'require_guest_phone_verification']"
      ]
     },
     "execution_count": 323,
     "metadata": {},
     "output_type": "execute_result"
    }
   ],
   "source": [
    "list(listing.select_dtypes(include=['object']).columns)"
   ]
  },
  {
   "cell_type": "code",
   "execution_count": 327,
   "metadata": {},
   "outputs": [
    {
     "data": {
      "text/plain": [
       "Other neighborhoods    794\n",
       "Capitol Hill           567\n",
       "Downtown               530\n",
       "Central Area           369\n",
       "Queen Anne             295\n",
       "Ballard                230\n",
       "West Seattle           203\n",
       "Rainier Valley         159\n",
       "University District    122\n",
       "Beacon Hill            118\n",
       "Cascade                 89\n",
       "Northgate               80\n",
       "Delridge                79\n",
       "Lake City               67\n",
       "Magnolia                61\n",
       "Seward Park             44\n",
       "Interbay                11\n",
       "Name: neighbourhood_group_cleansed, dtype: int64"
      ]
     },
     "execution_count": 327,
     "metadata": {},
     "output_type": "execute_result"
    }
   ],
   "source": [
    "listing['neighbourhood_group_cleansed'].value_counts()"
   ]
  },
  {
   "cell_type": "code",
   "execution_count": 330,
   "metadata": {},
   "outputs": [],
   "source": [
    "# One-hot encoding for neighbourhood_group_cleansed\n",
    "list4=['neighbourhood_group_cleansed']\n",
    "dummies = pd.get_dummies(listing[list4])\n",
    "listing=pd.concat([listing,dummies],axis=1)\n"
   ]
  },
  {
   "cell_type": "code",
   "execution_count": 331,
   "metadata": {},
   "outputs": [
    {
     "data": {
      "text/plain": [
       "(3818, 83)"
      ]
     },
     "execution_count": 331,
     "metadata": {},
     "output_type": "execute_result"
    }
   ],
   "source": [
    "list5=list(listing.select_dtypes(include=['object']).columns)\n",
    "listing=listing.drop(list5,axis=1)\n",
    "listing.shape"
   ]
  },
  {
   "cell_type": "code",
   "execution_count": 337,
   "metadata": {},
   "outputs": [],
   "source": [
    "# droping irrelevant variables\n",
    "list6=['id', 'scrape_id', 'host_id']\n",
    "listing=listing.drop(list6,axis=1)"
   ]
  },
  {
   "cell_type": "code",
   "execution_count": 396,
   "metadata": {},
   "outputs": [],
   "source": [
    "list7=['latitude','longitude']\n",
    "listing=listing.drop(list7,axis=1)"
   ]
  },
  {
   "cell_type": "code",
   "execution_count": 338,
   "metadata": {},
   "outputs": [
    {
     "data": {
      "text/plain": [
       "(3818, 80)"
      ]
     },
     "execution_count": 338,
     "metadata": {},
     "output_type": "execute_result"
    }
   ],
   "source": [
    "listing.shape"
   ]
  },
  {
   "cell_type": "code",
   "execution_count": 332,
   "metadata": {},
   "outputs": [
    {
     "data": {
      "text/plain": [
       "[]"
      ]
     },
     "execution_count": 332,
     "metadata": {},
     "output_type": "execute_result"
    }
   ],
   "source": [
    "list(listing.select_dtypes(include=['object']).columns)"
   ]
  },
  {
   "cell_type": "markdown",
   "metadata": {},
   "source": [
    "#### EDA Analysis:\n",
    "\n",
    "- Price(target) has a right skewed distribution with median=100 and mean=127.\n",
    "- House and Apartment are the most popular property types and rest all are grouped into Others.\n",
    "- Real Bed is the most popular Bed type present in majority of the listings .\n",
    "- Each property has an average of 1.3 bedrooms, 1.25 bathrooms and can accommodate an average of 3.3 guests.\n",
    "- There are a total of 42 unique amenities offered across listings and there is no correlation among the amenity groups."
   ]
  },
  {
   "cell_type": "markdown",
   "metadata": {},
   "source": [
    "### Model Develpment"
   ]
  },
  {
   "cell_type": "markdown",
   "metadata": {},
   "source": [
    "#### Price Prediction\n",
    "\n",
    "In order to predict price we will use ML technique for the model development. Since we have some variables with missing values even after droping a few of them, we will use XGBOOST ML technique which has inbuilt functionality to take care of the missing data. Also the boosting algorithm is expected to return good predictions subjected to the fine tuning methods of its different hyperparameters.\n",
    "\n",
    "##### XGBOOST Hyperparameter Tuning\n",
    "\n",
    "We will use Grid Search Cross validation approach to fine tune the model."
   ]
  },
  {
   "cell_type": "code",
   "execution_count": 334,
   "metadata": {},
   "outputs": [
    {
     "name": "stdout",
     "output_type": "stream",
     "text": [
      "Collecting xgboost\n",
      "  Downloading https://files.pythonhosted.org/packages/5e/49/b95c037b717b4ceadc76b6e164603471225c27052d1611d5a2e832757945/xgboost-0.90-py2.py3-none-win_amd64.whl (18.3MB)\n",
      "Requirement already satisfied: scipy in c:\\programdata\\anaconda3\\lib\\site-packages (from xgboost) (1.1.0)\n",
      "Requirement already satisfied: numpy in c:\\programdata\\anaconda3\\lib\\site-packages (from xgboost) (1.14.3)\n",
      "Installing collected packages: xgboost\n",
      "Successfully installed xgboost-0.90\n"
     ]
    },
    {
     "name": "stderr",
     "output_type": "stream",
     "text": [
      "distributed 1.21.8 requires msgpack, which is not installed.\n",
      "You are using pip version 10.0.1, however version 19.2.3 is available.\n",
      "You should consider upgrading via the 'python -m pip install --upgrade pip' command.\n"
     ]
    }
   ],
   "source": [
    "!pip install xgboost"
   ]
  },
  {
   "cell_type": "code",
   "execution_count": 335,
   "metadata": {},
   "outputs": [],
   "source": [
    "import xgboost\n",
    "\n",
    "from sklearn.model_selection import train_test_split #split\n",
    "from sklearn.metrics import r2_score, mean_squared_error #metrics"
   ]
  },
  {
   "cell_type": "code",
   "execution_count": 397,
   "metadata": {},
   "outputs": [],
   "source": [
    "#prepare train and test datasets for modelling\n",
    "TEST_SIZE = 0.3\n",
    "RAND_STATE = 42\n",
    "\n",
    "X = listing.drop(columns = 'price')\n",
    "y = listing[['price']]\n",
    "\n",
    "X_train, X_test, y_train, y_test = train_test_split(X, y, test_size = TEST_SIZE, random_state=RAND_STATE)"
   ]
  },
  {
   "cell_type": "code",
   "execution_count": 343,
   "metadata": {},
   "outputs": [
    {
     "name": "stderr",
     "output_type": "stream",
     "text": [
      "C:\\ProgramData\\Anaconda3\\lib\\site-packages\\sklearn\\cross_validation.py:41: DeprecationWarning: This module was deprecated in version 0.18 in favor of the model_selection module into which all the refactored classes and functions are moved. Also note that the interface of the new CV iterators are different from that of this module. This module will be removed in 0.20.\n",
      "  \"This module will be removed in 0.20.\", DeprecationWarning)\n",
      "C:\\ProgramData\\Anaconda3\\lib\\site-packages\\sklearn\\grid_search.py:42: DeprecationWarning: This module was deprecated in version 0.18 in favor of the model_selection module into which all the refactored classes and functions are moved. This module will be removed in 0.20.\n",
      "  DeprecationWarning)\n"
     ]
    }
   ],
   "source": [
    "from sklearn import cross_validation, metrics   #Additional scklearn functions\n",
    "from sklearn.grid_search import GridSearchCV   #Perforing grid search"
   ]
  },
  {
   "cell_type": "code",
   "execution_count": 398,
   "metadata": {},
   "outputs": [
    {
     "name": "stdout",
     "output_type": "stream",
     "text": [
      "[21:21:31] WARNING: C:/Jenkins/workspace/xgboost-win64_release_0.90/src/objective/regression_obj.cu:152: reg:linear is now deprecated in favor of reg:squarederror.\n"
     ]
    },
    {
     "data": {
      "text/plain": [
       "([mean: 0.56960, std: 0.06246, params: {'max_depth': 2, 'min_child_weight': 1},\n",
       "  mean: 0.57328, std: 0.06457, params: {'max_depth': 2, 'min_child_weight': 3},\n",
       "  mean: 0.56906, std: 0.06385, params: {'max_depth': 2, 'min_child_weight': 5},\n",
       "  mean: 0.57208, std: 0.06589, params: {'max_depth': 2, 'min_child_weight': 7},\n",
       "  mean: 0.57795, std: 0.06613, params: {'max_depth': 4, 'min_child_weight': 1},\n",
       "  mean: 0.56886, std: 0.05154, params: {'max_depth': 4, 'min_child_weight': 3},\n",
       "  mean: 0.57231, std: 0.05875, params: {'max_depth': 4, 'min_child_weight': 5},\n",
       "  mean: 0.58509, std: 0.06406, params: {'max_depth': 4, 'min_child_weight': 7},\n",
       "  mean: 0.57673, std: 0.06642, params: {'max_depth': 6, 'min_child_weight': 1},\n",
       "  mean: 0.56971, std: 0.05820, params: {'max_depth': 6, 'min_child_weight': 3},\n",
       "  mean: 0.56072, std: 0.05953, params: {'max_depth': 6, 'min_child_weight': 5},\n",
       "  mean: 0.56754, std: 0.06203, params: {'max_depth': 6, 'min_child_weight': 7},\n",
       "  mean: 0.56604, std: 0.05568, params: {'max_depth': 8, 'min_child_weight': 1},\n",
       "  mean: 0.55577, std: 0.04995, params: {'max_depth': 8, 'min_child_weight': 3},\n",
       "  mean: 0.56019, std: 0.06024, params: {'max_depth': 8, 'min_child_weight': 5},\n",
       "  mean: 0.56808, std: 0.05103, params: {'max_depth': 8, 'min_child_weight': 7},\n",
       "  mean: 0.56569, std: 0.05300, params: {'max_depth': 10, 'min_child_weight': 1},\n",
       "  mean: 0.54746, std: 0.05021, params: {'max_depth': 10, 'min_child_weight': 3},\n",
       "  mean: 0.55896, std: 0.05852, params: {'max_depth': 10, 'min_child_weight': 5},\n",
       "  mean: 0.56526, std: 0.05464, params: {'max_depth': 10, 'min_child_weight': 7}],\n",
       " {'max_depth': 4, 'min_child_weight': 7},\n",
       " 0.5850884879987162)"
      ]
     },
     "execution_count": 398,
     "metadata": {},
     "output_type": "execute_result"
    }
   ],
   "source": [
    "# tune for max depth and min child weight\n",
    "param_test1 = {\n",
    " 'max_depth':[2,4,6,8,10],\n",
    " 'min_child_weight':[1,3,5,7]\n",
    "}\n",
    "gsearch1 = GridSearchCV(estimator = xgboost.XGBRegressor( learning_rate =0.1, n_estimators=100, gamma=0, subsample=0.8, \n",
    "colsample_bytree=0.8,objective= 'reg:linear', nthread=4, scale_pos_weight=1, seed=27), \n",
    " param_grid = param_test1, scoring='r2',n_jobs=4,iid=False, cv=5)\n",
    "gsearch1.fit(X_train,y_train)\n",
    "gsearch1.grid_scores_, gsearch1.best_params_, gsearch1.best_score_"
   ]
  },
  {
   "cell_type": "code",
   "execution_count": 400,
   "metadata": {},
   "outputs": [
    {
     "name": "stdout",
     "output_type": "stream",
     "text": [
      "[21:24:51] WARNING: C:/Jenkins/workspace/xgboost-win64_release_0.90/src/objective/regression_obj.cu:152: reg:linear is now deprecated in favor of reg:squarederror.\n"
     ]
    },
    {
     "data": {
      "text/plain": [
       "([mean: 0.58509, std: 0.06406, params: {'gamma': 0.0},\n",
       "  mean: 0.58509, std: 0.06406, params: {'gamma': 0.1},\n",
       "  mean: 0.58509, std: 0.06406, params: {'gamma': 0.2},\n",
       "  mean: 0.58509, std: 0.06406, params: {'gamma': 0.3},\n",
       "  mean: 0.58509, std: 0.06406, params: {'gamma': 0.4}],\n",
       " {'gamma': 0.0},\n",
       " 0.5850884879987162)"
      ]
     },
     "execution_count": 400,
     "metadata": {},
     "output_type": "execute_result"
    }
   ],
   "source": [
    "# tune for gamma\n",
    "param_test2 = {\n",
    " 'gamma':[i/10.0 for i in range(0,5)]\n",
    "}\n",
    "gsearch2 = GridSearchCV(estimator = xgboost.XGBRegressor( learning_rate =0.1, n_estimators=100, max_depth=4,\n",
    " min_child_weight=7, subsample=0.8, colsample_bytree=0.8,\n",
    " objective=  'reg:linear', nthread=4, scale_pos_weight=1,seed=27), \n",
    " param_grid = param_test2, scoring='r2',n_jobs=4,iid=False, cv=5)\n",
    "gsearch2.fit(X_train,y_train)\n",
    "gsearch2.grid_scores_, gsearch2.best_params_, gsearch2.best_score_"
   ]
  },
  {
   "cell_type": "code",
   "execution_count": 401,
   "metadata": {},
   "outputs": [
    {
     "name": "stdout",
     "output_type": "stream",
     "text": [
      "[21:28:34] WARNING: C:/Jenkins/workspace/xgboost-win64_release_0.90/src/objective/regression_obj.cu:152: reg:linear is now deprecated in favor of reg:squarederror.\n"
     ]
    },
    {
     "data": {
      "text/plain": [
       "([mean: 0.58044, std: 0.05821, params: {'colsample_bytree': 0.6, 'subsample': 0.6},\n",
       "  mean: 0.58360, std: 0.06195, params: {'colsample_bytree': 0.6, 'subsample': 0.7},\n",
       "  mean: 0.57602, std: 0.06483, params: {'colsample_bytree': 0.6, 'subsample': 0.8},\n",
       "  mean: 0.57819, std: 0.06334, params: {'colsample_bytree': 0.6, 'subsample': 0.9},\n",
       "  mean: 0.58018, std: 0.06403, params: {'colsample_bytree': 0.7, 'subsample': 0.6},\n",
       "  mean: 0.57640, std: 0.06915, params: {'colsample_bytree': 0.7, 'subsample': 0.7},\n",
       "  mean: 0.58205, std: 0.06359, params: {'colsample_bytree': 0.7, 'subsample': 0.8},\n",
       "  mean: 0.57693, std: 0.06639, params: {'colsample_bytree': 0.7, 'subsample': 0.9},\n",
       "  mean: 0.57721, std: 0.06057, params: {'colsample_bytree': 0.8, 'subsample': 0.6},\n",
       "  mean: 0.58945, std: 0.06343, params: {'colsample_bytree': 0.8, 'subsample': 0.7},\n",
       "  mean: 0.58241, std: 0.06432, params: {'colsample_bytree': 0.8, 'subsample': 0.8},\n",
       "  mean: 0.57449, std: 0.06040, params: {'colsample_bytree': 0.8, 'subsample': 0.9},\n",
       "  mean: 0.57547, std: 0.05870, params: {'colsample_bytree': 0.9, 'subsample': 0.6},\n",
       "  mean: 0.58216, std: 0.06902, params: {'colsample_bytree': 0.9, 'subsample': 0.7},\n",
       "  mean: 0.58266, std: 0.06093, params: {'colsample_bytree': 0.9, 'subsample': 0.8},\n",
       "  mean: 0.57554, std: 0.06420, params: {'colsample_bytree': 0.9, 'subsample': 0.9}],\n",
       " {'colsample_bytree': 0.8, 'subsample': 0.7},\n",
       " 0.5894483159547941)"
      ]
     },
     "execution_count": 401,
     "metadata": {},
     "output_type": "execute_result"
    }
   ],
   "source": [
    "# tune for subsample and colsample_bytree\n",
    "param_test3 = {\n",
    " 'subsample':[i/10.0 for i in range(6,10)],\n",
    " 'colsample_bytree':[i/10.0 for i in range(6,10)]\n",
    "}\n",
    "gsearch3 = GridSearchCV(estimator = xgboost.XGBRegressor( learning_rate =0.1, n_estimators=79, max_depth=4,\n",
    " min_child_weight=7, gamma=0, \n",
    " objective= 'reg:linear', nthread=4, scale_pos_weight=1,seed=27), \n",
    " param_grid = param_test3, scoring='r2',n_jobs=4,iid=False, cv=5)\n",
    "gsearch3.fit(X_train,y_train)\n",
    "gsearch3.grid_scores_, gsearch3.best_params_, gsearch3.best_score_"
   ]
  },
  {
   "cell_type": "code",
   "execution_count": 402,
   "metadata": {},
   "outputs": [
    {
     "name": "stdout",
     "output_type": "stream",
     "text": [
      "[21:31:23] WARNING: C:/Jenkins/workspace/xgboost-win64_release_0.90/src/objective/regression_obj.cu:152: reg:linear is now deprecated in favor of reg:squarederror.\n"
     ]
    },
    {
     "data": {
      "text/plain": [
       "([mean: 0.57821, std: 0.05587, params: {'learning_rate': 0.05},\n",
       "  mean: 0.58694, std: 0.06435, params: {'learning_rate': 0.07},\n",
       "  mean: 0.58851, std: 0.06290, params: {'learning_rate': 0.09}],\n",
       " {'learning_rate': 0.09},\n",
       " 0.5885077660253011)"
      ]
     },
     "execution_count": 402,
     "metadata": {},
     "output_type": "execute_result"
    }
   ],
   "source": [
    "# tune for learning rate\n",
    "param_test4 = {\n",
    " 'learning_rate':[0.05,0.07,0.09]\n",
    " \n",
    "}\n",
    "gsearch4 = GridSearchCV(estimator = xgboost.XGBRegressor( n_estimators=100, max_depth=4,\n",
    " min_child_weight=7, gamma=0, subsample=0.7, colsample_bytree=0.8,\n",
    " objective= 'reg:linear', nthread=4, scale_pos_weight=1,seed=27), \n",
    " param_grid = param_test4, scoring='r2',n_jobs=4,iid=False, cv=5)\n",
    "gsearch4.fit(X_train,y_train)\n",
    "gsearch4.grid_scores_, gsearch4.best_params_, gsearch4.best_score_"
   ]
  },
  {
   "cell_type": "code",
   "execution_count": 403,
   "metadata": {},
   "outputs": [],
   "source": [
    "# fit the best hyperparameters\n",
    "xgb1 = xgboost.XGBRegressor(\n",
    " learning_rate =0.09,\n",
    " n_estimators=100,\n",
    " max_depth=4,\n",
    " min_child_weight=7,\n",
    " gamma=0,\n",
    " subsample=0.7,\n",
    " colsample_bytree=0.8,\n",
    " objective= 'reg:linear',\n",
    " nthread=4,\n",
    " scale_pos_weight=1,\n",
    " seed=27)"
   ]
  },
  {
   "cell_type": "code",
   "execution_count": 411,
   "metadata": {},
   "outputs": [
    {
     "name": "stdout",
     "output_type": "stream",
     "text": [
      "[21:41:00] WARNING: C:/Jenkins/workspace/xgboost-win64_release_0.90/src/objective/regression_obj.cu:152: reg:linear is now deprecated in favor of reg:squarederror.\n",
      "Mean Absolute Error for Train: 26.4\n"
     ]
    }
   ],
   "source": [
    "# model performance on training data\n",
    "xgb1.fit(X_train, y_train,eval_metric='rmse')\n",
    "dtrain_predictions = xgb1.predict(X_train)\n",
    "print(\"Mean Absolute Error for Train: %.4g\" % metrics.mean_absolute_error(y_train.values, dtrain_predictions))"
   ]
  },
  {
   "cell_type": "code",
   "execution_count": 412,
   "metadata": {},
   "outputs": [
    {
     "name": "stdout",
     "output_type": "stream",
     "text": [
      "[21:41:05] WARNING: C:/Jenkins/workspace/xgboost-win64_release_0.90/src/objective/regression_obj.cu:152: reg:linear is now deprecated in favor of reg:squarederror.\n",
      "Mean Absolute Error for Test : 22.89\n"
     ]
    }
   ],
   "source": [
    "# model performance on test data\n",
    "xgb1.fit(X_test, y_test,eval_metric='rmse')\n",
    "dtest_predictions = xgb1.predict(X_test)\n",
    "print(\"Mean Absolute Error for Test : %.4g\" % metrics.mean_absolute_error(y_test.values, dtest_predictions))"
   ]
  },
  {
   "cell_type": "markdown",
   "metadata": {},
   "source": [
    "#### Model Evaluation\n",
    "\n",
    "Mean Absolute Error for Train & Test is 26 & 23. Since the model is fine tuned and performance is similar on development and validation data, we can use the model to predict the price for new listing provided the availability of 77 listing attributes which have been used in the model development."
   ]
  },
  {
   "cell_type": "code",
   "execution_count": 407,
   "metadata": {},
   "outputs": [],
   "source": [
    "feat_imp = pd.Series(xgb1.get_booster().get_score()).sort_values(ascending=False)"
   ]
  },
  {
   "cell_type": "code",
   "execution_count": 408,
   "metadata": {},
   "outputs": [
    {
     "data": {
      "text/plain": [
       "Text(0,0.5,'Feature Importance Score')"
      ]
     },
     "execution_count": 408,
     "metadata": {},
     "output_type": "execute_result"
    },
    {
     "data": {
      "image/png": "[encoded data removed]",
      "text/plain": [
       "<Figure size 432x288 with 1 Axes>"
      ]
     },
     "metadata": {},
     "output_type": "display_data"
    }
   ],
   "source": [
    "feat_imp[:15].plot(kind='bar', title='Feature Importances')\n",
    "plt.ylabel('Feature Importance Score')"
   ]
  },
  {
   "cell_type": "markdown",
   "metadata": {},
   "source": [
    "#### Top 15 Important features determining Listing Price \n",
    "\n",
    "- Reviews per Month\n",
    "- No.of Accomodates\n",
    "- Availablity in 365 days\n",
    "- No. of Bathrooms\n",
    "- Reviews score rating\n",
    "- No. of Bedrooms\n",
    "- No. of Host Listings\n",
    "- No. of Guests\n",
    "- Minimum Nights Stay\n",
    "- No. of Reviews\n",
    "- Capitol Hill as the Neighbourhood\n",
    "- Availablity in 30 days\n",
    "- Downtown as the Neighbourhood\n",
    "- No. of Beds\n",
    "- Availablity in 90 days"
   ]
  }
 ],
 "metadata": {
  "kernelspec": {
   "display_name": "Python 3",
   "language": "python",
   "name": "python3"
  },
  "language_info": {
   "codemirror_mode": {
    "name": "ipython",
    "version": 3
   },
   "file_extension": ".py",
   "mimetype": "text/x-python",
   "name": "python",
   "nbconvert_exporter": "python",
   "pygments_lexer": "ipython3",
   "version": "3.6.5"
  }
 },
 "nbformat": 4,
 "nbformat_minor": 2
}
